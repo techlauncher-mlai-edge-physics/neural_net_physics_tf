{
 "cells": [
  {
   "cell_type": "code",
   "execution_count": 1,
   "metadata": {},
   "outputs": [
    {
     "name": "stderr",
     "output_type": "stream",
     "text": [
      "2023-08-26 23:28:02.584486: I tensorflow/core/platform/cpu_feature_guard.cc:182] This TensorFlow binary is optimized to use available CPU instructions in performance-critical operations.\n",
      "To enable the following instructions: AVX2 FMA, in other operations, rebuild TensorFlow with the appropriate compiler flags.\n",
      "2023-08-26 23:28:04.026798: W tensorflow/compiler/tf2tensorrt/utils/py_utils.cc:38] TF-TRT Warning: Could not find TensorRT\n"
     ]
    }
   ],
   "source": [
    "import tensorflow as tf\n",
    "from layers import fno_2d"
   ]
  },
  {
   "cell_type": "code",
   "execution_count": 2,
   "metadata": {},
   "outputs": [
    {
     "name": "stderr",
     "output_type": "stream",
     "text": [
      "2023-08-26 23:28:17.711214: I tensorflow/compiler/xla/stream_executor/cuda/cuda_gpu_executor.cc:982] could not open file to read NUMA node: /sys/bus/pci/devices/0000:01:00.0/numa_node\n",
      "Your kernel may have been built without NUMA support.\n",
      "2023-08-26 23:28:18.010358: W tensorflow/core/common_runtime/gpu/gpu_device.cc:1956] Cannot dlopen some GPU libraries. Please make sure the missing libraries mentioned above are installed properly if you would like to use GPU. Follow the guide at https://www.tensorflow.org/install/gpu for how to download and setup the required libraries for your platform.\n",
      "Skipping registering GPU devices...\n",
      "WARNING:absl:Found untraced functions such as fno2d_layer_call_fn, fno2d_layer_call_and_return_conditional_losses, dense_layer_call_fn, dense_layer_call_and_return_conditional_losses, dense_10_layer_call_fn while saving (showing 5 of 64). These functions will not be directly callable after loading.\n"
     ]
    },
    {
     "name": "stdout",
     "output_type": "stream",
     "text": [
      "INFO:tensorflow:Assets written to: models/fno2_saved_model/assets\n"
     ]
    },
    {
     "name": "stderr",
     "output_type": "stream",
     "text": [
      "INFO:tensorflow:Assets written to: models/fno2_saved_model/assets\n"
     ]
    }
   ],
   "source": [
    "model_fno2 = fno_2d(\n",
    "    in_channels=5,\n",
    "    out_channels=3,\n",
    "    modes=25,  # was 17\n",
    "    width=40,  # was 20\n",
    "    n_layers=9,  # was 4\n",
    "    nearly_last_width=128,\n",
    ")\n",
    "\n",
    "\n",
    "@tf.function(input_signature=[tf.TensorSpec(shape=(1, 64, 64, 5), dtype=tf.float32)])\n",
    "def fno2_predict(x):\n",
    "    return {\"outputs\": model_fno2(x)}\n",
    "\n",
    "\n",
    "module = tf.Module()\n",
    "module.serve = fno2_predict\n",
    "module.model = model_fno2\n",
    "\n",
    "\n",
    "tf.saved_model.save(\n",
    "    module, \"models/fno2_saved_model\", signatures={\"serving_default\": module.serve}\n",
    ")\n"
   ]
  }
 ],
 "metadata": {
  "kernelspec": {
   "display_name": "tf",
   "language": "python",
   "name": "python3"
  },
  "language_info": {
   "codemirror_mode": {
    "name": "ipython",
    "version": 3
   },
   "file_extension": ".py",
   "mimetype": "text/x-python",
   "name": "python",
   "nbconvert_exporter": "python",
   "pygments_lexer": "ipython3",
   "version": "3.10.12"
  },
  "orig_nbformat": 4
 },
 "nbformat": 4,
 "nbformat_minor": 2
}
