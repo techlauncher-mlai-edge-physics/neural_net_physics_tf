{
 "cells": [
  {
   "cell_type": "code",
   "execution_count": 6,
   "metadata": {},
   "outputs": [
    {
     "name": "stdout",
     "output_type": "stream",
     "text": [
      "[]\n"
     ]
    }
   ],
   "source": [
    "import tensorflow as tf\n",
    "from functools import partial\n",
    "print(tf.config.list_physical_devices('GPU'))"
   ]
  },
  {
   "cell_type": "code",
   "execution_count": 7,
   "metadata": {},
   "outputs": [],
   "source": [
    "def phase(\n",
    "        dim_sizes,\n",
    "        pos_low: float = -1,\n",
    "        pos_high: float = 1,\n",
    "        centered: bool = True,\n",
    "        dtype=tf.float32,\n",
    "        device=None):\n",
    "    \"\"\"\n",
    "    Basically a clone of `encode_positions`,\n",
    "    but reimplemented here to keep the other thing unpickling correctly.\n",
    "    \"\"\"\n",
    "    def generate_grid(size):\n",
    "        width = (pos_high - pos_low) / size\n",
    "        if centered:\n",
    "            left = pos_low + width / 2\n",
    "            right = pos_high - width / 2\n",
    "        else:\n",
    "            left = pos_low\n",
    "            right = pos_high - width\n",
    "        return tf.linspace(\n",
    "            left, right, num=size,\n",
    "            dtype=dtype)\n",
    "    grid_list = list(map(generate_grid, dim_sizes))\n",
    "    grid = tf.stack(tf.meshgrid(*grid_list, indexing='ij'), axis=-1)\n",
    "    return grid\n"
   ]
  },
  {
   "cell_type": "code",
   "execution_count": 8,
   "metadata": {},
   "outputs": [],
   "source": [
    "class FourierLayer2d(tf.keras.layers.Layer):\n",
    "    def __init__(self, in_dim, out_dim, n_modes, residual=True):\n",
    "        super(FourierLayer2d, self).__init__()\n",
    "        self.in_dim = in_dim\n",
    "        self.out_dim = out_dim\n",
    "        self.n_modes = n_modes\n",
    "        self.linear = tf.keras.layers.Dense(out_dim)\n",
    "        self.residual = residual\n",
    "        self.act = tf.keras.layers.ReLU()\n",
    "\n",
    "        fourier_weight = [tf.Variable(tf.random.normal(\n",
    "            shape=(in_dim, out_dim, n_modes, n_modes, 2), stddev=1/(in_dim*out_dim))) for _ in range(2)]\n",
    "        self.fourier_weight = fourier_weight\n",
    "    \n",
    "    @staticmethod\n",
    "    def complex_matmul_2d(a, b):\n",
    "        # (batch, in_channel, x, y), (in_channel, out_channel, x, y) -> (batch, out_channel, x, y)\n",
    "        op = partial(tf.einsum, \"bixy,ioxy->boxy\")\n",
    "        return tf.stack([\n",
    "            op(a[..., 0], b[..., 0]) - op(a[..., 1], b[..., 1]),\n",
    "            op(a[..., 1], b[..., 0]) + op(a[..., 0], b[..., 1])\n",
    "        ], axis=-1)\n",
    "\n",
    "    def call(self, x):\n",
    "        # x.shape == [batch_size, grid_size, grid_size, in_dim]\n",
    "        B, M, N, I = x.shape\n",
    "        \n",
    "        x = tf.transpose(x, perm=[0, 3, 1, 2])\n",
    "        # x.shape == [batch_size, in_dim, grid_size, grid_size]\n",
    "\n",
    "        # x_ft_real = tf.signal.rfft(x, fft_length=M, name=\"rfft_real\")\n",
    "        # x_ft_imag = tf.signal.rfft(tf.reverse(x, axis=[-1]), fft_length=M, name=\"rfft_imag\")\n",
    "        # x_ft_imag = tf.reverse(x_ft_imag, axis=[-1])\n",
    "\n",
    "        x_ft = tf.signal.rfft2d(x, fft_length=[M, N])\n",
    "\n",
    "        # x_ft_stacked = tf.stack([x_ft_real, x_ft_imag], axis=-1)\n",
    "        # x_ft_stacked.shape == [batch_size, in_dim, grid_size, grid_size // 2 + 1, 2]\n",
    "\n",
    "        out_ft = tf.zeros((B, I, N, M // 2 + 1, 2), dtype=tf.float32)\n",
    "        out_ft = out_ft + self.complex_matmul_2d(x_ft[:, :, :self.n_modes, :self.n_modes], self.fourier_weight[0])\n",
    "        out_ft = out_ft + self.complex_matmul_2d(x_ft[:, :, -self.n_modes:, :self.n_modes], self.fourier_weight[1])\n",
    "        out_ft = tf.complex(out_ft[..., 0], out_ft[..., 1])\n",
    "        \n",
    "        x = tf.signal.irfft2d(out_ft, fft_length=[N, M])\n",
    "\n",
    "        # x_ift_real = tf.signal.irfft(out_ft, fft_length=M, name=\"irfft_real\")\n",
    "        # x_ift_real.shape == [batch_size, grid_size, grid_size, in_dim]\n",
    "\n",
    "        x = tf.transpose(x, perm=[0, 2, 3, 1])\n",
    "\n",
    "        if self.residual:\n",
    "            res = self.linear(x)\n",
    "            x = self.act(x + res)\n",
    "        else:\n",
    "            x = self.act(x)\n",
    "        return x"
   ]
  },
  {
   "cell_type": "code",
   "execution_count": 9,
   "metadata": {},
   "outputs": [],
   "source": [
    "class FNO2d(tf.keras.layers.Layer):\n",
    "    def __init__(\n",
    "            self,\n",
    "            in_channels=3,\n",
    "            out_channels=1,\n",
    "            modes=17,\n",
    "            width=20,\n",
    "            n_layers=4,\n",
    "            residual=False,\n",
    "            conv_residual=True,\n",
    "            nearly_last_width=128,\n",
    "            pos_low=-1.0,\n",
    "            pos_high=1.0,\n",
    "            flat_mode=False,\n",
    "            bias_1=True,\n",
    "            bias_2=True,\n",
    "        ):\n",
    "        super(FNO2d, self).__init__()\n",
    "        spatial_dim = 2\n",
    "\n",
    "        self.in_channels = in_channels\n",
    "        self.out_channels = out_channels\n",
    "        if isinstance(modes, int):\n",
    "            modes = [modes] * n_layers\n",
    "        self.modes = modes\n",
    "        assert len(self.modes) == n_layers\n",
    "        if isinstance(width, int):\n",
    "            width = [width] * (n_layers + 1)\n",
    "        self.width = width\n",
    "        assert len(self.width) == n_layers + 1\n",
    "\n",
    "        self.residual = residual\n",
    "        self.pos_low = pos_low\n",
    "        self.pos_high = pos_high\n",
    "\n",
    "        self.input_dim = in_channels + spatial_dim\n",
    "        w = self.width[0]\n",
    "        self.in_proj = tf.keras.layers.Dense(w)\n",
    "        self.spectral_layers = []\n",
    "        for (next_w, m) in zip(self.width[1:], modes):\n",
    "            self.spectral_layers.append(FourierLayer2d(\n",
    "                in_dim=w,\n",
    "                out_dim=next_w,\n",
    "                n_modes=m,\n",
    "                residual=conv_residual,\n",
    "            ))\n",
    "            w = next_w\n",
    "        if nearly_last_width > 0:\n",
    "            self.out_1 = tf.keras.layers.Dense(\n",
    "                nearly_last_width,\n",
    "                use_bias=bias_1)\n",
    "            w = nearly_last_width\n",
    "            self.out_act = tf.keras.layers.ReLU()\n",
    "        else:\n",
    "            self.out_1 = tf.keras.layers.Identity()\n",
    "            self.out_act = tf.keras.layers.Identity()\n",
    "\n",
    "        self.out_2 = tf.keras.layers.Dense(\n",
    "            self.out_channels,\n",
    "            use_bias=bias_2)\n",
    "        self.flat_mode = flat_mode\n",
    "\n",
    "    def call(self, *predictors):\n",
    "        x = self.last_layer(*predictors)\n",
    "        x = self.out_2(x)\n",
    "        if self.flat_mode == 'batch':\n",
    "            x = tf.reshape(x, [-1, x.shape[-1]])\n",
    "        elif self.flat_mode == 'vector':\n",
    "            x = tf.reshape(x, [x.shape[0], -1, x.shape[-1]])\n",
    "        return x\n",
    "\n",
    "    def last_layer(self, *predictors):\n",
    "        x = self._build_features(*predictors)\n",
    "        x = self.in_proj(x)\n",
    "        for layer in self.spectral_layers:\n",
    "            x = layer(x) + x if self.residual else layer(x)\n",
    "        x = self.out_1(x)\n",
    "        return self.out_act(x)\n",
    "\n",
    "    def _encode_positions(self, dim_sizes):\n",
    "        return phase(\n",
    "            dim_sizes=dim_sizes,\n",
    "            pos_low=self.pos_low,\n",
    "            pos_high=self.pos_high,\n",
    "            device=self._float.device)\n",
    "\n",
    "    def _build_features(self, *predictors):\n",
    "        B, *dim_sizes, T = tf.shape(predictors[0])\n",
    "        m, n = dim_sizes\n",
    "        pos_feats = self._encode_positions(dim_sizes)\n",
    "        pos_feats = tf.repeat(pos_feats[tf.newaxis, ...], B, axis=0)\n",
    "        predictor_arr = tf.concat(predictors + (pos_feats,), axis=-1)\n",
    "        return predictor_arr"
   ]
  },
  {
   "cell_type": "code",
   "execution_count": 10,
   "metadata": {},
   "outputs": [
    {
     "name": "stdout",
     "output_type": "stream",
     "text": [
      "WARNING:tensorflow:Skipping full serialization of Keras layer <__main__.FNO2d object at 0x7fc0482fe770>, because it is not built.\n"
     ]
    },
    {
     "name": "stderr",
     "output_type": "stream",
     "text": [
      "WARNING:tensorflow:Skipping full serialization of Keras layer <__main__.FNO2d object at 0x7fc0482fe770>, because it is not built.\n"
     ]
    },
    {
     "name": "stdout",
     "output_type": "stream",
     "text": [
      "WARNING:tensorflow:Skipping full serialization of Keras layer <keras.src.layers.core.dense.Dense object at 0x7fc0496afeb0>, because it is not built.\n"
     ]
    },
    {
     "name": "stderr",
     "output_type": "stream",
     "text": [
      "WARNING:tensorflow:Skipping full serialization of Keras layer <keras.src.layers.core.dense.Dense object at 0x7fc0496afeb0>, because it is not built.\n"
     ]
    },
    {
     "name": "stdout",
     "output_type": "stream",
     "text": [
      "WARNING:tensorflow:Skipping full serialization of Keras layer <keras.src.layers.core.dense.Dense object at 0x7fc0482fc8e0>, because it is not built.\n"
     ]
    },
    {
     "name": "stderr",
     "output_type": "stream",
     "text": [
      "WARNING:tensorflow:Skipping full serialization of Keras layer <keras.src.layers.core.dense.Dense object at 0x7fc0482fc8e0>, because it is not built.\n"
     ]
    },
    {
     "name": "stdout",
     "output_type": "stream",
     "text": [
      "WARNING:tensorflow:Skipping full serialization of Keras layer <keras.src.layers.activation.relu.ReLU object at 0x7fc0482b98a0>, because it is not built.\n"
     ]
    },
    {
     "name": "stderr",
     "output_type": "stream",
     "text": [
      "WARNING:tensorflow:Skipping full serialization of Keras layer <keras.src.layers.activation.relu.ReLU object at 0x7fc0482b98a0>, because it is not built.\n"
     ]
    },
    {
     "name": "stdout",
     "output_type": "stream",
     "text": [
      "WARNING:tensorflow:Skipping full serialization of Keras layer <keras.src.layers.core.dense.Dense object at 0x7fc0482b9f00>, because it is not built.\n"
     ]
    },
    {
     "name": "stderr",
     "output_type": "stream",
     "text": [
      "WARNING:tensorflow:Skipping full serialization of Keras layer <keras.src.layers.core.dense.Dense object at 0x7fc0482b9f00>, because it is not built.\n"
     ]
    },
    {
     "name": "stdout",
     "output_type": "stream",
     "text": [
      "WARNING:tensorflow:Skipping full serialization of Keras layer <__main__.FourierLayer2d object at 0x7fc0482ff340>, because it is not built.\n"
     ]
    },
    {
     "name": "stderr",
     "output_type": "stream",
     "text": [
      "WARNING:tensorflow:Skipping full serialization of Keras layer <__main__.FourierLayer2d object at 0x7fc0482ff340>, because it is not built.\n"
     ]
    },
    {
     "name": "stdout",
     "output_type": "stream",
     "text": [
      "WARNING:tensorflow:Skipping full serialization of Keras layer <__main__.FourierLayer2d object at 0x7fc0482ff010>, because it is not built.\n"
     ]
    },
    {
     "name": "stderr",
     "output_type": "stream",
     "text": [
      "WARNING:tensorflow:Skipping full serialization of Keras layer <__main__.FourierLayer2d object at 0x7fc0482ff010>, because it is not built.\n"
     ]
    },
    {
     "name": "stdout",
     "output_type": "stream",
     "text": [
      "WARNING:tensorflow:Skipping full serialization of Keras layer <__main__.FourierLayer2d object at 0x7fc0482fd210>, because it is not built.\n"
     ]
    },
    {
     "name": "stderr",
     "output_type": "stream",
     "text": [
      "WARNING:tensorflow:Skipping full serialization of Keras layer <__main__.FourierLayer2d object at 0x7fc0482fd210>, because it is not built.\n"
     ]
    },
    {
     "name": "stdout",
     "output_type": "stream",
     "text": [
      "WARNING:tensorflow:Skipping full serialization of Keras layer <__main__.FourierLayer2d object at 0x7fc0482ff850>, because it is not built.\n"
     ]
    },
    {
     "name": "stderr",
     "output_type": "stream",
     "text": [
      "WARNING:tensorflow:Skipping full serialization of Keras layer <__main__.FourierLayer2d object at 0x7fc0482ff850>, because it is not built.\n"
     ]
    },
    {
     "name": "stdout",
     "output_type": "stream",
     "text": [
      "WARNING:tensorflow:Skipping full serialization of Keras layer <__main__.FourierLayer2d object at 0x7fc049036d40>, because it is not built.\n"
     ]
    },
    {
     "name": "stderr",
     "output_type": "stream",
     "text": [
      "WARNING:tensorflow:Skipping full serialization of Keras layer <__main__.FourierLayer2d object at 0x7fc049036d40>, because it is not built.\n"
     ]
    },
    {
     "name": "stdout",
     "output_type": "stream",
     "text": [
      "WARNING:tensorflow:Skipping full serialization of Keras layer <__main__.FourierLayer2d object at 0x7fc0482b80d0>, because it is not built.\n"
     ]
    },
    {
     "name": "stderr",
     "output_type": "stream",
     "text": [
      "WARNING:tensorflow:Skipping full serialization of Keras layer <__main__.FourierLayer2d object at 0x7fc0482b80d0>, because it is not built.\n"
     ]
    },
    {
     "name": "stdout",
     "output_type": "stream",
     "text": [
      "WARNING:tensorflow:Skipping full serialization of Keras layer <__main__.FourierLayer2d object at 0x7fc0482b9840>, because it is not built.\n"
     ]
    },
    {
     "name": "stderr",
     "output_type": "stream",
     "text": [
      "WARNING:tensorflow:Skipping full serialization of Keras layer <__main__.FourierLayer2d object at 0x7fc0482b9840>, because it is not built.\n"
     ]
    },
    {
     "name": "stdout",
     "output_type": "stream",
     "text": [
      "WARNING:tensorflow:Skipping full serialization of Keras layer <__main__.FourierLayer2d object at 0x7fc0482b8bb0>, because it is not built.\n"
     ]
    },
    {
     "name": "stderr",
     "output_type": "stream",
     "text": [
      "WARNING:tensorflow:Skipping full serialization of Keras layer <__main__.FourierLayer2d object at 0x7fc0482b8bb0>, because it is not built.\n"
     ]
    },
    {
     "name": "stdout",
     "output_type": "stream",
     "text": [
      "WARNING:tensorflow:Skipping full serialization of Keras layer <__main__.FourierLayer2d object at 0x7fc0482bb4c0>, because it is not built.\n"
     ]
    },
    {
     "name": "stderr",
     "output_type": "stream",
     "text": [
      "WARNING:tensorflow:Skipping full serialization of Keras layer <__main__.FourierLayer2d object at 0x7fc0482bb4c0>, because it is not built.\n"
     ]
    },
    {
     "name": "stdout",
     "output_type": "stream",
     "text": [
      "WARNING:tensorflow:Skipping full serialization of Keras layer <keras.src.layers.core.dense.Dense object at 0x7fc0482fd930>, because it is not built.\n"
     ]
    },
    {
     "name": "stderr",
     "output_type": "stream",
     "text": [
      "WARNING:tensorflow:Skipping full serialization of Keras layer <keras.src.layers.core.dense.Dense object at 0x7fc0482fd930>, because it is not built.\n"
     ]
    },
    {
     "name": "stdout",
     "output_type": "stream",
     "text": [
      "WARNING:tensorflow:Skipping full serialization of Keras layer <keras.src.layers.activation.relu.ReLU object at 0x7fc0482fc6a0>, because it is not built.\n"
     ]
    },
    {
     "name": "stderr",
     "output_type": "stream",
     "text": [
      "WARNING:tensorflow:Skipping full serialization of Keras layer <keras.src.layers.activation.relu.ReLU object at 0x7fc0482fc6a0>, because it is not built.\n"
     ]
    },
    {
     "name": "stdout",
     "output_type": "stream",
     "text": [
      "WARNING:tensorflow:Skipping full serialization of Keras layer <keras.src.layers.core.dense.Dense object at 0x7fc0482fde70>, because it is not built.\n"
     ]
    },
    {
     "name": "stderr",
     "output_type": "stream",
     "text": [
      "WARNING:tensorflow:Skipping full serialization of Keras layer <keras.src.layers.core.dense.Dense object at 0x7fc0482fde70>, because it is not built.\n"
     ]
    },
    {
     "name": "stdout",
     "output_type": "stream",
     "text": [
      "WARNING:tensorflow:Skipping full serialization of Keras layer <keras.src.layers.activation.relu.ReLU object at 0x7fc0482ffb20>, because it is not built.\n"
     ]
    },
    {
     "name": "stderr",
     "output_type": "stream",
     "text": [
      "WARNING:tensorflow:Skipping full serialization of Keras layer <keras.src.layers.activation.relu.ReLU object at 0x7fc0482ffb20>, because it is not built.\n"
     ]
    },
    {
     "name": "stdout",
     "output_type": "stream",
     "text": [
      "WARNING:tensorflow:Skipping full serialization of Keras layer <keras.src.layers.core.dense.Dense object at 0x7fc0482fcbe0>, because it is not built.\n"
     ]
    },
    {
     "name": "stderr",
     "output_type": "stream",
     "text": [
      "WARNING:tensorflow:Skipping full serialization of Keras layer <keras.src.layers.core.dense.Dense object at 0x7fc0482fcbe0>, because it is not built.\n"
     ]
    },
    {
     "name": "stdout",
     "output_type": "stream",
     "text": [
      "WARNING:tensorflow:Skipping full serialization of Keras layer <keras.src.layers.activation.relu.ReLU object at 0x7fc0482ff580>, because it is not built.\n"
     ]
    },
    {
     "name": "stderr",
     "output_type": "stream",
     "text": [
      "WARNING:tensorflow:Skipping full serialization of Keras layer <keras.src.layers.activation.relu.ReLU object at 0x7fc0482ff580>, because it is not built.\n"
     ]
    },
    {
     "name": "stdout",
     "output_type": "stream",
     "text": [
      "WARNING:tensorflow:Skipping full serialization of Keras layer <keras.src.layers.core.dense.Dense object at 0x7fc0482fc820>, because it is not built.\n"
     ]
    },
    {
     "name": "stderr",
     "output_type": "stream",
     "text": [
      "WARNING:tensorflow:Skipping full serialization of Keras layer <keras.src.layers.core.dense.Dense object at 0x7fc0482fc820>, because it is not built.\n"
     ]
    },
    {
     "name": "stdout",
     "output_type": "stream",
     "text": [
      "WARNING:tensorflow:Skipping full serialization of Keras layer <keras.src.layers.activation.relu.ReLU object at 0x7fc0482fefe0>, because it is not built.\n"
     ]
    },
    {
     "name": "stderr",
     "output_type": "stream",
     "text": [
      "WARNING:tensorflow:Skipping full serialization of Keras layer <keras.src.layers.activation.relu.ReLU object at 0x7fc0482fefe0>, because it is not built.\n"
     ]
    },
    {
     "name": "stdout",
     "output_type": "stream",
     "text": [
      "WARNING:tensorflow:Skipping full serialization of Keras layer <keras.src.layers.core.dense.Dense object at 0x7fc0482b8850>, because it is not built.\n"
     ]
    },
    {
     "name": "stderr",
     "output_type": "stream",
     "text": [
      "WARNING:tensorflow:Skipping full serialization of Keras layer <keras.src.layers.core.dense.Dense object at 0x7fc0482b8850>, because it is not built.\n"
     ]
    },
    {
     "name": "stdout",
     "output_type": "stream",
     "text": [
      "WARNING:tensorflow:Skipping full serialization of Keras layer <keras.src.layers.activation.relu.ReLU object at 0x7fc0482b8580>, because it is not built.\n"
     ]
    },
    {
     "name": "stderr",
     "output_type": "stream",
     "text": [
      "WARNING:tensorflow:Skipping full serialization of Keras layer <keras.src.layers.activation.relu.ReLU object at 0x7fc0482b8580>, because it is not built.\n"
     ]
    },
    {
     "name": "stdout",
     "output_type": "stream",
     "text": [
      "WARNING:tensorflow:Skipping full serialization of Keras layer <keras.src.layers.core.dense.Dense object at 0x7fc0482bbdf0>, because it is not built.\n"
     ]
    },
    {
     "name": "stderr",
     "output_type": "stream",
     "text": [
      "WARNING:tensorflow:Skipping full serialization of Keras layer <keras.src.layers.core.dense.Dense object at 0x7fc0482bbdf0>, because it is not built.\n"
     ]
    },
    {
     "name": "stdout",
     "output_type": "stream",
     "text": [
      "WARNING:tensorflow:Skipping full serialization of Keras layer <keras.src.layers.activation.relu.ReLU object at 0x7fc0482b9720>, because it is not built.\n"
     ]
    },
    {
     "name": "stderr",
     "output_type": "stream",
     "text": [
      "WARNING:tensorflow:Skipping full serialization of Keras layer <keras.src.layers.activation.relu.ReLU object at 0x7fc0482b9720>, because it is not built.\n"
     ]
    },
    {
     "name": "stdout",
     "output_type": "stream",
     "text": [
      "WARNING:tensorflow:Skipping full serialization of Keras layer <keras.src.layers.core.dense.Dense object at 0x7fc0482b93f0>, because it is not built.\n"
     ]
    },
    {
     "name": "stderr",
     "output_type": "stream",
     "text": [
      "WARNING:tensorflow:Skipping full serialization of Keras layer <keras.src.layers.core.dense.Dense object at 0x7fc0482b93f0>, because it is not built.\n"
     ]
    },
    {
     "name": "stdout",
     "output_type": "stream",
     "text": [
      "WARNING:tensorflow:Skipping full serialization of Keras layer <keras.src.layers.activation.relu.ReLU object at 0x7fc0482ba470>, because it is not built.\n"
     ]
    },
    {
     "name": "stderr",
     "output_type": "stream",
     "text": [
      "WARNING:tensorflow:Skipping full serialization of Keras layer <keras.src.layers.activation.relu.ReLU object at 0x7fc0482ba470>, because it is not built.\n"
     ]
    },
    {
     "name": "stdout",
     "output_type": "stream",
     "text": [
      "WARNING:tensorflow:Skipping full serialization of Keras layer <keras.src.layers.core.dense.Dense object at 0x7fc0482bb940>, because it is not built.\n"
     ]
    },
    {
     "name": "stderr",
     "output_type": "stream",
     "text": [
      "WARNING:tensorflow:Skipping full serialization of Keras layer <keras.src.layers.core.dense.Dense object at 0x7fc0482bb940>, because it is not built.\n"
     ]
    },
    {
     "name": "stdout",
     "output_type": "stream",
     "text": [
      "WARNING:tensorflow:Skipping full serialization of Keras layer <keras.src.layers.activation.relu.ReLU object at 0x7fc0482ba920>, because it is not built.\n"
     ]
    },
    {
     "name": "stderr",
     "output_type": "stream",
     "text": [
      "WARNING:tensorflow:Skipping full serialization of Keras layer <keras.src.layers.activation.relu.ReLU object at 0x7fc0482ba920>, because it is not built.\n"
     ]
    },
    {
     "name": "stdout",
     "output_type": "stream",
     "text": [
      "WARNING:tensorflow:Skipping full serialization of Keras layer <keras.src.layers.core.dense.Dense object at 0x7fc0482bb1f0>, because it is not built.\n"
     ]
    },
    {
     "name": "stderr",
     "output_type": "stream",
     "text": [
      "WARNING:tensorflow:Skipping full serialization of Keras layer <keras.src.layers.core.dense.Dense object at 0x7fc0482bb1f0>, because it is not built.\n"
     ]
    },
    {
     "name": "stdout",
     "output_type": "stream",
     "text": [
      "WARNING:tensorflow:Skipping full serialization of Keras layer <keras.src.layers.activation.relu.ReLU object at 0x7fc0482baec0>, because it is not built.\n"
     ]
    },
    {
     "name": "stderr",
     "output_type": "stream",
     "text": [
      "WARNING:tensorflow:Skipping full serialization of Keras layer <keras.src.layers.activation.relu.ReLU object at 0x7fc0482baec0>, because it is not built.\n"
     ]
    },
    {
     "name": "stdout",
     "output_type": "stream",
     "text": [
      "INFO:tensorflow:Assets written to: fno_2d_model/assets\n"
     ]
    },
    {
     "name": "stderr",
     "output_type": "stream",
     "text": [
      "INFO:tensorflow:Assets written to: fno_2d_model/assets\n"
     ]
    }
   ],
   "source": [
    "\n",
    "def fno_2d(*args, **kwargs):\n",
    "    net = FNO2d(*args, **kwargs)\n",
    "    # net.build(input_shape=(None, None, None, kwargs.get('in_channels', 3)))  # Adjust input shape\n",
    "    return net\n",
    "\n",
    "model_fno2 = fno_2d(\n",
    "    in_channels=5,\n",
    "    out_channels=3,\n",
    "    modes=25, # was 17\n",
    "    width=40, # was 20\n",
    "    n_layers=9, # was 4\n",
    "    nearly_last_width=128)\n",
    "\n",
    "tf.saved_model.save(model_fno2, 'fno_2d_model')"
   ]
  },
  {
   "cell_type": "code",
   "execution_count": null,
   "metadata": {},
   "outputs": [],
   "source": []
  }
 ],
 "metadata": {
  "kernelspec": {
   "display_name": "tf",
   "language": "python",
   "name": "python3"
  },
  "language_info": {
   "codemirror_mode": {
    "name": "ipython",
    "version": 3
   },
   "file_extension": ".py",
   "mimetype": "text/x-python",
   "name": "python",
   "nbconvert_exporter": "python",
   "pygments_lexer": "ipython3",
   "version": "3.10.12"
  },
  "orig_nbformat": 4
 },
 "nbformat": 4,
 "nbformat_minor": 2
}
